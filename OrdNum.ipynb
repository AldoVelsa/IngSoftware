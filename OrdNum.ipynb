{
  "nbformat": 4,
  "nbformat_minor": 0,
  "metadata": {
    "colab": {
      "provenance": [],
      "authorship_tag": "ABX9TyM+/LzsgrGPHqiMTYEjvoc4",
      "include_colab_link": true
    },
    "kernelspec": {
      "name": "python3",
      "display_name": "Python 3"
    },
    "language_info": {
      "name": "python"
    }
  },
  "cells": [
    {
      "cell_type": "markdown",
      "metadata": {
        "id": "view-in-github",
        "colab_type": "text"
      },
      "source": [
        "<a href=\"https://colab.research.google.com/github/AldoVelsa/IngSoftware/blob/main/OrdNum.ipynb\" target=\"_parent\"><img src=\"https://colab.research.google.com/assets/colab-badge.svg\" alt=\"Open In Colab\"/></a>"
      ]
    },
    {
      "cell_type": "code",
      "execution_count": 1,
      "metadata": {
        "colab": {
          "base_uri": "https://localhost:8080/"
        },
        "id": "deP-ctO2Mjma",
        "outputId": "7bb9a836-a0c7-44ac-e557-91fea5696b65"
      },
      "outputs": [
        {
          "output_type": "stream",
          "name": "stdout",
          "text": [
            "Ingresa el número 1: 2\n",
            "Ingresa el número 2: 3\n",
            "Ingresa el número 3: 3\n",
            "Ingresa el número 4: 2\n",
            "Ingresa el número 5: 2\n",
            "Números ordenados: [2.0, 2.0, 2.0, 3.0, 3.0]\n",
            "Suma de los números: 12.0\n"
          ]
        }
      ],
      "source": [
        "# Solicitar 5 números al usuario\n",
        "numeros = []\n",
        "for i in range(5):\n",
        "    numero = float(input(f'Ingresa el número {i + 1}: '))\n",
        "    numeros.append(numero)\n",
        "\n",
        "# Ordenar la lista de números de menor a mayor\n",
        "numeros.sort()\n",
        "\n",
        "# Calcular la suma de los números\n",
        "suma = sum(numeros)\n",
        "\n",
        "# Mostrar el resultado\n",
        "print(f'Números ordenados: {numeros}')\n",
        "print(f'Suma de los números: {suma}')"
      ]
    }
  ]
}